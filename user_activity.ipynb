{
 "cells": [
  {
   "cell_type": "code",
   "execution_count": 1,
   "id": "efa81afe",
   "metadata": {},
   "outputs": [],
   "source": [
    "import pandas as pd\n",
    "\n",
    "df = pd.read_csv('user_activity.csv - user_activities.csv')"
   ]
  },
  {
   "cell_type": "code",
   "execution_count": 2,
   "id": "881edec4",
   "metadata": {},
   "outputs": [
    {
     "data": {
      "text/html": [
       "<div>\n",
       "<style scoped>\n",
       "    .dataframe tbody tr th:only-of-type {\n",
       "        vertical-align: middle;\n",
       "    }\n",
       "\n",
       "    .dataframe tbody tr th {\n",
       "        vertical-align: top;\n",
       "    }\n",
       "\n",
       "    .dataframe thead th {\n",
       "        text-align: right;\n",
       "    }\n",
       "</style>\n",
       "<table border=\"1\" class=\"dataframe\">\n",
       "  <thead>\n",
       "    <tr style=\"text-align: right;\">\n",
       "      <th></th>\n",
       "      <th>user_id</th>\n",
       "      <th>date</th>\n",
       "      <th>activity_type</th>\n",
       "      <th>duration_minutes</th>\n",
       "    </tr>\n",
       "  </thead>\n",
       "  <tbody>\n",
       "    <tr>\n",
       "      <th>0</th>\n",
       "      <td>13</td>\n",
       "      <td>2023-04-14</td>\n",
       "      <td>journaling</td>\n",
       "      <td>41</td>\n",
       "    </tr>\n",
       "    <tr>\n",
       "      <th>1</th>\n",
       "      <td>16</td>\n",
       "      <td>2023-04-19</td>\n",
       "      <td>journaling</td>\n",
       "      <td>30</td>\n",
       "    </tr>\n",
       "    <tr>\n",
       "      <th>2</th>\n",
       "      <td>1</td>\n",
       "      <td>2023-04-20</td>\n",
       "      <td>meditation</td>\n",
       "      <td>17</td>\n",
       "    </tr>\n",
       "    <tr>\n",
       "      <th>3</th>\n",
       "      <td>4</td>\n",
       "      <td>2023-04-18</td>\n",
       "      <td>guided_exercise</td>\n",
       "      <td>13</td>\n",
       "    </tr>\n",
       "    <tr>\n",
       "      <th>4</th>\n",
       "      <td>4</td>\n",
       "      <td>2023-04-08</td>\n",
       "      <td>meditation</td>\n",
       "      <td>55</td>\n",
       "    </tr>\n",
       "  </tbody>\n",
       "</table>\n",
       "</div>"
      ],
      "text/plain": [
       "   user_id        date    activity_type  duration_minutes\n",
       "0       13  2023-04-14       journaling                41\n",
       "1       16  2023-04-19       journaling                30\n",
       "2        1  2023-04-20       meditation                17\n",
       "3        4  2023-04-18  guided_exercise                13\n",
       "4        4  2023-04-08       meditation                55"
      ]
     },
     "execution_count": 2,
     "metadata": {},
     "output_type": "execute_result"
    }
   ],
   "source": [
    "df.head()"
   ]
  },
  {
   "cell_type": "code",
   "execution_count": 3,
   "id": "aa0df92e",
   "metadata": {},
   "outputs": [],
   "source": [
    "df['date'] = pd.to_datetime(df['date'])\n",
    "df['week_number'] = df['date'].dt.strftime('%U')"
   ]
  },
  {
   "cell_type": "code",
   "execution_count": 4,
   "id": "59985a5d",
   "metadata": {},
   "outputs": [
    {
     "name": "stdout",
     "output_type": "stream",
     "text": [
      "     user_id    activity_type week_number  duration_minutes\n",
      "0          1  guided_exercise          14                53\n",
      "1          1  guided_exercise          15               134\n",
      "2          1  guided_exercise          16                85\n",
      "3          1  guided_exercise          17                84\n",
      "4          1       journaling          14               139\n",
      "..       ...              ...         ...               ...\n",
      "248       20       journaling          18                42\n",
      "249       20       meditation          14                62\n",
      "250       20       meditation          15               209\n",
      "251       20       meditation          16               162\n",
      "252       20       meditation          17               109\n",
      "\n",
      "[253 rows x 4 columns]\n"
     ]
    }
   ],
   "source": [
    "# Calculates the total weekly duration of each activity type per user.\n",
    "weekly_duration = df.groupby(['user_id', 'activity_type', 'week_number']).agg({'duration_minutes': 'sum'}).reset_index()\n",
    "print(weekly_duration)"
   ]
  },
  {
   "cell_type": "code",
   "execution_count": 5,
   "id": "c99a27c1",
   "metadata": {},
   "outputs": [
    {
     "name": "stdout",
     "output_type": "stream",
     "text": [
      "                   activity_type  day_of_week  duration_minutes\n",
      "activity_type                                                  \n",
      "guided_exercise  guided_exercise            2               967\n",
      "journaling            journaling            6              1561\n",
      "meditation            meditation            4              1068\n"
     ]
    }
   ],
   "source": [
    "# Identifies the day of the week with the highest total duration for each activity type.\n",
    "df['day_of_week'] = df['date'].dt.dayofweek\n",
    "# (0 = Monday, 1 = Tuesday, ..., 6 = Sunday)\n",
    "grouped_df = df.groupby(['activity_type', 'day_of_week']).agg({'duration_minutes': 'sum'}).reset_index()\n",
    "\n",
    "max_duration_per_activity = grouped_df.groupby('activity_type').apply(lambda x: x.loc[x['duration_minutes'].idxmax()])\n",
    "\n",
    "print(max_duration_per_activity[['activity_type', 'day_of_week', 'duration_minutes']])"
   ]
  },
  {
   "cell_type": "code",
   "execution_count": 6,
   "id": "8ad2b904",
   "metadata": {},
   "outputs": [
    {
     "name": "stdout",
     "output_type": "stream",
     "text": [
      "   user_id  statistic   p_value\n",
      "0        1  10.134945  0.119083\n",
      "1        2  10.590681  0.101881\n",
      "2        3   5.734541  0.453574\n",
      "3        4   3.516204  0.741813\n",
      "4        5   8.029233  0.235969\n",
      "5        6   8.560819  0.199825\n",
      "6        7   5.963625  0.427277\n",
      "7        8   3.960406  0.682035\n",
      "8        9  13.482990  0.035976\n",
      "9       10   7.849630  0.249328\n",
      "10      11   4.022242  0.673666\n",
      "11      12   7.341174  0.290444\n",
      "12      13   3.095792  0.796731\n",
      "13      14        NaN       NaN\n",
      "14      15   5.679337  0.460052\n",
      "15      16   6.158032  0.405722\n",
      "16      17   3.240796  0.778074\n",
      "17      18   6.600925  0.359334\n",
      "18      19   8.302073  0.216797\n",
      "19      20   5.204054  0.517921\n"
     ]
    },
    {
     "name": "stderr",
     "output_type": "stream",
     "text": [
      "/var/folders/0c/yhckkwd9767bsr3v10cwg9bc0000gn/T/ipykernel_51290/478063684.py:14: FutureWarning: The behavior of DataFrame concatenation with empty or all-NA entries is deprecated. In a future version, this will no longer exclude empty or all-NA columns when determining the result dtypes. To retain the old behavior, exclude the relevant entries before the concat operation.\n",
      "  test_results = pd.concat([test_results, pd.DataFrame({'user_id': [user_id],\n"
     ]
    }
   ],
   "source": [
    "# Statistical tests if there are activity differences in the days of the week per user.\n",
    "# Perform Kruskal-Wallis test.\n",
    "from scipy.stats import kruskal\n",
    "test_results = pd.DataFrame(columns=['user_id', 'statistic', 'p_value'])\n",
    "\n",
    "for user_id in range(1, 21):  \n",
    "    user_data = df[df['user_id'] == user_id]\n",
    "    \n",
    "    durations_by_day = []\n",
    "    for day in range(7):  \n",
    "        durations_by_day.append(user_data[user_data['day_of_week'] == day]['duration_minutes'])\n",
    "    kruskal_result = kruskal(*durations_by_day)\n",
    "\n",
    "    test_results = pd.concat([test_results, pd.DataFrame({'user_id': [user_id],\n",
    "                                                          'statistic': [kruskal_result.statistic],\n",
    "                                                          'p_value': [kruskal_result.pvalue]})],\n",
    "                             ignore_index=True)\n",
    "\n",
    "# Display test results\n",
    "print(test_results)"
   ]
  },
  {
   "cell_type": "code",
   "execution_count": 7,
   "id": "56a82f92",
   "metadata": {},
   "outputs": [
    {
     "data": {
      "image/png": "[encoded data removed]",
      "text/plain": [
       "<Figure size 1000x600 with 1 Axes>"
      ]
     },
     "metadata": {},
     "output_type": "display_data"
    }
   ],
   "source": [
    "import matplotlib.pyplot as plt\n",
    "import seaborn as sns\n",
    "sns.set(style=\"whitegrid\")\n",
    "\n",
    "# Plot p-values for each user\n",
    "plt.figure(figsize=(10, 6))\n",
    "ax = sns.barplot(x='user_id', y='p_value', data=test_results)\n",
    "ax.axhline(0.05, color='red', linestyle='--', label='Significance Level (0.05)')\n",
    "ax.set_xlabel('User ID')\n",
    "ax.set_ylabel('P-Value')\n",
    "ax.set_title('Kruskal-Wallis Test Results for Activity Durations Across Days of the Week')\n",
    "ax.legend()\n",
    "plt.xticks(rotation=45)\n",
    "plt.tight_layout()\n",
    "plt.show()"
   ]
  },
  {
   "cell_type": "code",
   "execution_count": 8,
   "id": "9383db21",
   "metadata": {},
   "outputs": [
    {
     "name": "stdout",
     "output_type": "stream",
     "text": [
      "day_of_week         0      1     2     3     4     5     6\n",
      "activity_type                                             \n",
      "guided_exercise  16.0    NaN   NaN  44.0  27.0  23.0   5.0\n",
      "journaling        NaN  151.0  65.0  52.0   NaN  96.0  18.0\n",
      "meditation        NaN    NaN  84.0  73.0  57.0  80.0  92.0\n"
     ]
    }
   ],
   "source": [
    "# For User 9:\n",
    "user_9_data = df[df['user_id'] == 9]\n",
    "grouped_df9 = user_9_data.groupby(['day_of_week','activity_type']).agg({'duration_minutes': 'sum'}).reset_index()\n",
    "\n",
    "# Pivot table to separate activities by day of the week\n",
    "pivot_table9 = user_9_data.pivot_table(index='activity_type', columns='day_of_week', values='duration_minutes', aggfunc='sum')\n",
    "\n",
    "print(pivot_table9)"
   ]
  },
  {
   "cell_type": "code",
   "execution_count": 9,
   "id": "b289f6d1",
   "metadata": {},
   "outputs": [
    {
     "data": {
      "text/html": [
       "<div>\n",
       "<style scoped>\n",
       "    .dataframe tbody tr th:only-of-type {\n",
       "        vertical-align: middle;\n",
       "    }\n",
       "\n",
       "    .dataframe tbody tr th {\n",
       "        vertical-align: top;\n",
       "    }\n",
       "\n",
       "    .dataframe thead th {\n",
       "        text-align: right;\n",
       "    }\n",
       "</style>\n",
       "<table border=\"1\" class=\"dataframe\">\n",
       "  <thead>\n",
       "    <tr style=\"text-align: right;\">\n",
       "      <th></th>\n",
       "      <th>day_of_week</th>\n",
       "      <th>activity_type</th>\n",
       "      <th>duration_minutes</th>\n",
       "    </tr>\n",
       "  </thead>\n",
       "  <tbody>\n",
       "    <tr>\n",
       "      <th>0</th>\n",
       "      <td>0</td>\n",
       "      <td>guided_exercise</td>\n",
       "      <td>16</td>\n",
       "    </tr>\n",
       "    <tr>\n",
       "      <th>1</th>\n",
       "      <td>1</td>\n",
       "      <td>journaling</td>\n",
       "      <td>151</td>\n",
       "    </tr>\n",
       "    <tr>\n",
       "      <th>2</th>\n",
       "      <td>2</td>\n",
       "      <td>journaling</td>\n",
       "      <td>65</td>\n",
       "    </tr>\n",
       "    <tr>\n",
       "      <th>3</th>\n",
       "      <td>2</td>\n",
       "      <td>meditation</td>\n",
       "      <td>84</td>\n",
       "    </tr>\n",
       "    <tr>\n",
       "      <th>4</th>\n",
       "      <td>3</td>\n",
       "      <td>guided_exercise</td>\n",
       "      <td>44</td>\n",
       "    </tr>\n",
       "    <tr>\n",
       "      <th>5</th>\n",
       "      <td>3</td>\n",
       "      <td>journaling</td>\n",
       "      <td>52</td>\n",
       "    </tr>\n",
       "    <tr>\n",
       "      <th>6</th>\n",
       "      <td>3</td>\n",
       "      <td>meditation</td>\n",
       "      <td>73</td>\n",
       "    </tr>\n",
       "    <tr>\n",
       "      <th>7</th>\n",
       "      <td>4</td>\n",
       "      <td>guided_exercise</td>\n",
       "      <td>27</td>\n",
       "    </tr>\n",
       "    <tr>\n",
       "      <th>8</th>\n",
       "      <td>4</td>\n",
       "      <td>meditation</td>\n",
       "      <td>57</td>\n",
       "    </tr>\n",
       "    <tr>\n",
       "      <th>9</th>\n",
       "      <td>5</td>\n",
       "      <td>guided_exercise</td>\n",
       "      <td>23</td>\n",
       "    </tr>\n",
       "    <tr>\n",
       "      <th>10</th>\n",
       "      <td>5</td>\n",
       "      <td>journaling</td>\n",
       "      <td>96</td>\n",
       "    </tr>\n",
       "    <tr>\n",
       "      <th>11</th>\n",
       "      <td>5</td>\n",
       "      <td>meditation</td>\n",
       "      <td>80</td>\n",
       "    </tr>\n",
       "    <tr>\n",
       "      <th>12</th>\n",
       "      <td>6</td>\n",
       "      <td>guided_exercise</td>\n",
       "      <td>5</td>\n",
       "    </tr>\n",
       "    <tr>\n",
       "      <th>13</th>\n",
       "      <td>6</td>\n",
       "      <td>journaling</td>\n",
       "      <td>18</td>\n",
       "    </tr>\n",
       "    <tr>\n",
       "      <th>14</th>\n",
       "      <td>6</td>\n",
       "      <td>meditation</td>\n",
       "      <td>92</td>\n",
       "    </tr>\n",
       "  </tbody>\n",
       "</table>\n",
       "</div>"
      ],
      "text/plain": [
       "    day_of_week    activity_type  duration_minutes\n",
       "0             0  guided_exercise                16\n",
       "1             1       journaling               151\n",
       "2             2       journaling                65\n",
       "3             2       meditation                84\n",
       "4             3  guided_exercise                44\n",
       "5             3       journaling                52\n",
       "6             3       meditation                73\n",
       "7             4  guided_exercise                27\n",
       "8             4       meditation                57\n",
       "9             5  guided_exercise                23\n",
       "10            5       journaling                96\n",
       "11            5       meditation                80\n",
       "12            6  guided_exercise                 5\n",
       "13            6       journaling                18\n",
       "14            6       meditation                92"
      ]
     },
     "execution_count": 9,
     "metadata": {},
     "output_type": "execute_result"
    }
   ],
   "source": [
    "# For User 9:\n",
    "user_9_data = df[df['user_id'] == 9]\n",
    "grouped_df9 = user_9_data.groupby(['day_of_week','activity_type']).agg({'duration_minutes': 'sum'}).reset_index()\n",
    "grouped_df9"
   ]
  },
  {
   "cell_type": "code",
   "execution_count": 10,
   "id": "15034fc4",
   "metadata": {},
   "outputs": [
    {
     "name": "stdout",
     "output_type": "stream",
     "text": [
      "Pair: (0, 1), T-Statistic: -0.8890626561971902, P-Value: 0.42420521875735534\n",
      "Pair: (0, 2), T-Statistic: -1.706109977567017, P-Value: 0.16318256579486132\n",
      "Pair: (0, 3), T-Statistic: -5.019767169174617, P-Value: 0.007386568896876828\n",
      "Pair: (0, 4), T-Statistic: -1.3098740185000133, P-Value: 0.2604003662638886\n",
      "Pair: (0, 5), T-Statistic: -2.6770297602485815, P-Value: 0.05539936542078179\n",
      "Pair: (0, 6), T-Statistic: -1.195028313825097, P-Value: 0.2980848308181056\n",
      "Pair: (1, 2), T-Statistic: 0.011821701985375925, P-Value: 0.9911339816443165\n",
      "Pair: (1, 3), T-Statistic: -0.11748406231926625, P-Value: 0.9121394096305216\n",
      "Pair: (1, 4), T-Statistic: 0.42172575792449407, P-Value: 0.6949029573099352\n",
      "Pair: (1, 5), T-Statistic: -0.290946496903723, P-Value: 0.7855547294809981\n",
      "Pair: (1, 6), T-Statistic: 0.2099277040174474, P-Value: 0.8439832319751235\n",
      "Pair: (2, 3), T-Statistic: -0.2481840421053994, P-Value: 0.8162125645969062\n",
      "Pair: (2, 4), T-Statistic: 0.71519312822045, P-Value: 0.5140150264650246\n",
      "Pair: (2, 5), T-Statistic: -0.4941541439984749, P-Value: 0.6471042194402483\n",
      "Pair: (2, 6), T-Statistic: 0.3049848698542906, P-Value: 0.7755883133097767\n",
      "Pair: (3, 4), T-Statistic: 1.523698821186909, P-Value: 0.20225793217813975\n",
      "Pair: (3, 5), T-Statistic: -0.4204964789407535, P-Value: 0.6957301630213071\n",
      "Pair: (3, 6), T-Statistic: 0.6328897617669688, P-Value: 0.5611814592114615\n",
      "Pair: (4, 5), T-Statistic: -1.3888726823895634, P-Value: 0.2372003616027526\n",
      "Pair: (4, 6), T-Statistic: -0.3259368035548658, P-Value: 0.7608109834319069\n",
      "Pair: (5, 6), T-Statistic: 0.8000362836474321, P-Value: 0.4685083588116948\n"
     ]
    }
   ],
   "source": [
    "# Identify which two days have the largest difference and whether it is statistically significant in activity.\n",
    "import numpy as np\n",
    "from scipy import stats\n",
    "import itertools\n",
    "\n",
    "day_pairs = list(itertools.combinations(range(7), 2))\n",
    "\n",
    "activity_durations = {\n",
    "    0: [16, 0, 0],\n",
    "    1: [0, 151,0],\n",
    "    2: [0, 65, 84],\n",
    "    3: [44, 52, 73],\n",
    "    4: [27, 0, 57],\n",
    "    5: [23, 96, 80],\n",
    "    6: [5, 18, 92]\n",
    "}\n",
    "\n",
    "# Perform pairwise t-tests\n",
    "for pair in day_pairs:\n",
    "    day1 = pair[0]\n",
    "    day2 = pair[1]\n",
    "    durations1 = activity_durations[day1]\n",
    "    durations2 = activity_durations[day2]\n",
    "    t_statistic, p_value = stats.ttest_ind(durations1, durations2)\n",
    "    print(f\"Pair: {pair}, T-Statistic: {t_statistic}, P-Value: {p_value}\")"
   ]
  },
  {
   "cell_type": "code",
   "execution_count": 14,
   "id": "0e19ec8c",
   "metadata": {},
   "outputs": [
    {
     "name": "stderr",
     "output_type": "stream",
     "text": [
      "/var/folders/0c/yhckkwd9767bsr3v10cwg9bc0000gn/T/ipykernel_51264/4199423805.py:4: UserWarning: FixedFormatter should only be used together with FixedLocator\n",
      "  ax.set_xticklabels(activity_durations.keys())\n"
     ]
    },
    {
     "data": {
      "image/png": "[encoded data removed]",
      "text/plain": [
       "<Figure size 1000x600 with 1 Axes>"
      ]
     },
     "metadata": {},
     "output_type": "display_data"
    }
   ],
   "source": [
    "# Plot boxplot for activity durations for each day\n",
    "plt.figure(figsize=(10, 6))\n",
    "ax = sns.boxplot(data=list(activity_durations.values()))\n",
    "ax.set_xticklabels(activity_durations.keys())\n",
    "ax.set_xlabel(\"Day\")\n",
    "ax.set_ylabel(\"Activity Duration\")\n",
    "ax.set_title(\"Activity Durations for Each Day\")\n",
    "\n",
    "# Perform pairwise t-tests and annotate significant differences\n",
    "for pair in day_pairs:\n",
    "    day1 = pair[0]\n",
    "    day2 = pair[1]\n",
    "    durations1 = activity_durations[day1]\n",
    "    durations2 = activity_durations[day2]\n",
    "    t_statistic, p_value = stats.ttest_ind(durations1, durations2)\n",
    "    if p_value < 0.05:  # Significance level of 0.05\n",
    "        plt.text(pair[0], max(max(durations1), max(durations2)), f\"p={p_value:.4f}\", ha='center', va='bottom')\n",
    "\n",
    "plt.show()"
   ]
  },
  {
   "cell_type": "code",
   "execution_count": null,
   "id": "0eebebe7",
   "metadata": {},
   "outputs": [],
   "source": []
  },
  {
   "cell_type": "code",
   "execution_count": null,
   "id": "27164fb3",
   "metadata": {},
   "outputs": [],
   "source": []
  }
 ],
 "metadata": {
  "kernelspec": {
   "display_name": "Python 3 (ipykernel)",
   "language": "python",
   "name": "python3"
  },
  "language_info": {
   "codemirror_mode": {
    "name": "ipython",
    "version": 3
   },
   "file_extension": ".py",
   "mimetype": "text/x-python",
   "name": "python",
   "nbconvert_exporter": "python",
   "pygments_lexer": "ipython3",
   "version": "3.11.1"
  }
 },
 "nbformat": 4,
 "nbformat_minor": 5
}
